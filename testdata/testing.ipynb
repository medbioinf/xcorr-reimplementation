{
 "cells": [
  {
   "cell_type": "code",
   "execution_count": null,
   "metadata": {},
   "outputs": [],
   "source": [
    "import pickle\n",
    "import numpy as np\n",
    "import plotly.graph_objects as go\n",
    "import sys\n",
    "import math\n",
    "\n",
    "binned_fasta_spectrum = pickle.load(open(\"binned_fasta_spectrum.pkl\", \"rb\"))\n",
    "binned_mzml_spectrum = pickle.load(open(\"binned_mzmL_spectrum.pkl\", \"rb\"))\n"
   ]
  },
  {
   "cell_type": "code",
   "execution_count": null,
   "metadata": {},
   "outputs": [],
   "source": [
    "# fig = go.Figure()\n",
    "# fig.add_trace(go.Bar(x=np.arange(0, len(binned_fasta_spectrum), 0.02), y=binned_fasta_spectrum, width=3, marker_color='blue'))\n",
    "# fig.add_trace(go.Bar(x=np.arange(0, len(binned_fasta_spectrum), 0.02), y=binned_mzml_spectrum  * -1, width=3, marker_color='crimson'))\n",
    "\n",
    "# fig.write_image(\"pfui.svg\")\n",
    "# fig.write_html(\"pfui.html\")"
   ]
  },
  {
   "cell_type": "code",
   "execution_count": null,
   "metadata": {},
   "outputs": [],
   "source": [
    "SHIFT = 1.0\n",
    "\n",
    "binned_fasta_spectrum_cut = binned_fasta_spectrum[int(200/0.02):int(2000/0.02)]\n",
    "\n",
    "binned_mzml_spectrum_cut = binned_mzml_spectrum[int(200/0.02):int(2000/0.02)]\n",
    "\n",
    "top_100_values = np.argsort(binned_mzml_spectrum_cut)[-100:]\n",
    "binned_mzml_spectrum_100 = np.zeros_like(binned_mzml_spectrum_cut)\n",
    "binned_mzml_spectrum_100[top_100_values] = binned_mzml_spectrum_cut[top_100_values]\n",
    "\n",
    "binned_mzml_spectrum_shift = np.insert(binned_mzml_spectrum_100, 0, np.zeros(int(SHIFT / 0.02)))\n",
    "binned_mzml_spectrum_shift = np.append(binned_mzml_spectrum_shift, np.zeros(int(SHIFT / 0.02)))\n",
    "\n",
    "corr = np.correlate(binned_fasta_spectrum_cut, binned_mzml_spectrum_shift, mode=\"valid\")\n",
    "\n",
    "\n",
    "corr[len(corr) // 2] - np.mean(corr)\n"
   ]
  },
  {
   "cell_type": "code",
   "execution_count": null,
   "metadata": {},
   "outputs": [],
   "source": [
    "np.printoptions(threshold=sys.maxsize)\n",
    "for idx, i in enumerate(corr):\n",
    "    print(idx, i)"
   ]
  },
  {
   "cell_type": "code",
   "execution_count": null,
   "metadata": {},
   "outputs": [],
   "source": [
    "binned_mzml_spectrum_cut = binned_mzml_spectrum[int(200/0.02):int(2000/0.02)]\n",
    "\n",
    "top_100_values = np.argsort(binned_mzml_spectrum_cut)[-100:]\n",
    "binned_mzml_spectrum_100 = np.zeros_like(binned_mzml_spectrum_cut)\n",
    "binned_mzml_spectrum_100[top_100_values] = binned_mzml_spectrum_cut[top_100_values]\n",
    "\n",
    "np.sort(np.argsort(binned_mzml_spectrum_100)[-100:] / 50)\n",
    "\n"
   ]
  },
  {
   "cell_type": "code",
   "execution_count": null,
   "metadata": {},
   "outputs": [],
   "source": [
    "import pickle\n",
    "import numpy as np\n",
    "\n",
    "spectrum = pickle.load(open(\"scan_42578_spectrum.pkl\", \"rb\"))\n",
    "\n",
    "print(spectrum)"
   ]
  },
  {
   "cell_type": "code",
   "execution_count": null,
   "metadata": {},
   "outputs": [],
   "source": [
    "import pickle\n",
    "import sys\n",
    "import numpy as np\n",
    "sys.path.append(\"../\")\n",
    "from Search.utils import fragments\n",
    "from Search.binning import binning\n",
    "\n",
    "mz_array, int_array = pickle.load(open(\"spectrum_71120.pkl\", \"br\"))\n",
    "\n"
   ]
  },
  {
   "cell_type": "code",
   "execution_count": null,
   "metadata": {},
   "outputs": [],
   "source": [
    "spect01 = binning(mz_array, np.sqrt(int_array))\n",
    "\n",
    "highest_ion = spect01.size \n",
    "num_wins = 10\n",
    "win_size = int(highest_ion/num_wins) + 1\n",
    "\n",
    "\n",
    "spect02 = np.array([]) \n",
    "\n",
    "for i in range(0, len(spect01), win_size): \n",
    "    win = spect01[i:i + win_size]\n",
    "    win = 50 * (win  / np.max(win))\n",
    "    spect02 = np.append(spect02, win)\n",
    "    \n",
    "\n",
    "for i, n in enumerate(spect02):\n",
    "    if n > 0:\n",
    "        print(i, n)"
   ]
  },
  {
   "cell_type": "code",
   "execution_count": null,
   "metadata": {},
   "outputs": [],
   "source": [
    "spct = binning(mz_array, int_array)\n",
    "for i, n in enumerate(spct):\n",
    "    if n>0:\n",
    "        print(i, n)"
   ]
  },
  {
   "cell_type": "code",
   "execution_count": null,
   "metadata": {},
   "outputs": [],
   "source": [
    "print([i for i in fasta_array if i > 0])"
   ]
  },
  {
   "cell_type": "code",
   "execution_count": null,
   "metadata": {},
   "outputs": [],
   "source": [
    "import numpy as np\n",
    "\n",
    "print(np.correlate(mzml_array, fasta_array))"
   ]
  },
  {
   "cell_type": "code",
   "execution_count": null,
   "metadata": {},
   "outputs": [],
   "source": [
    "import numpy as np\n",
    "mzml_array = np.array([12, 56, 199, 201, 250, 300, 400, 700, 2001, 2050])\n",
    "int_array = np.array([2, 3, 6, 8, 9, 2, 90, 4, 56, 35])\n",
    "\n"
   ]
  },
  {
   "cell_type": "code",
   "execution_count": null,
   "metadata": {},
   "outputs": [],
   "source": [
    "print(0.01 / 0.02)"
   ]
  },
  {
   "cell_type": "code",
   "execution_count": null,
   "metadata": {},
   "outputs": [],
   "source": [
    "for cnt in range(1, min(4, 3) + 1):\n",
    "    print(cnt)\n"
   ]
  },
  {
   "cell_type": "code",
   "execution_count": null,
   "metadata": {},
   "outputs": [],
   "source": [
    "import sys\n",
    "import matplotlib.pyplot as plt\n",
    "sys.path.append(\"../\")\n",
    "\n",
    "import numpy as np\n",
    "\n",
    "plt.figure(dpi=1200)\n",
    "\n",
    "# make data\n",
    "x = 0.5 + np.arange(8)\n",
    "y = [4.8, 5.5, 3.5, 4.6, 6.5, 6.6, 2.6, 3.0]\n",
    "\n",
    "# plot\n",
    "fig, ax = plt.subplots()\n",
    "\n",
    "ax.stem(x, y)\n",
    "\n",
    "ax.set(xlim=(0, 8), xticks=np.arange(1, 8),\n",
    "       ylim=(0, 8), yticks=np.arange(1, 8))\n",
    "\n",
    "plt.show()"
   ]
  },
  {
   "cell_type": "code",
   "execution_count": null,
   "metadata": {},
   "outputs": [],
   "source": [
    "from Search.utils import fragments\n",
    "import math\n",
    "\n",
    "mz, intensity, pep , scan = pickle.load(open(\"scan_71120.pkl\", \"br\"))\n",
    "#print(mz, intensity, scan)\n",
    "\n",
    "fragment_mz = sorted(list(fragments(pep, maxcharge=2)), key= float)\n",
    "\n",
    "for idx, mass in enumerate(mz):\n",
    "    if  mass < 200 or mass > 2000:\n",
    "        intensity[idx] = 0.0\n",
    "\n",
    "intensity = intensity  / np.max(intensity)\n",
    "top_hundred_intensities = -np.sort(-intensity)#[:min(100, intensity.size)]\n",
    "\n",
    "match_count = 0\n",
    "\n",
    "xcorr = 0\n",
    "\n",
    "for m, i in zip(mz, intensity):\n",
    "    \n",
    "    match = 0\n",
    "    if i in top_hundred_intensities and 200 <= m <= 2000:\n",
    "        for f in fragment_mz:\n",
    "            if 0.02 >= abs(f - m):\n",
    "                match = f\n",
    "                match_count += 1\n",
    "\n",
    "                if int(m // 0.02) == int(match // 0.02):\n",
    "                    xcorr += i\n",
    "                else:\n",
    "                    xcorr += i/2\n",
    "                break\n",
    "\n",
    "    print([m, i, match, int(m // 0.02), int(match // 0.02)])\n",
    "    \n",
    "\n",
    "print(match_count, xcorr)\n",
    "\n",
    "\n"
   ]
  },
  {
   "cell_type": "code",
   "execution_count": null,
   "metadata": {},
   "outputs": [],
   "source": [
    "from itertools import combinations\n",
    "\n",
    "pept = \"CIFFWWCYGMKGCMCL\"\n",
    "m_pos = [pos for pos, char in enumerate(pept) if char == 'M']\n",
    "\n",
    "for len in range(4):\n",
    "\tfor i in combinations(m_pos, len):\n",
    "\t\tprint(list(i))\n",
    "\n"
   ]
  },
  {
   "cell_type": "code",
   "execution_count": null,
   "metadata": {},
   "outputs": [],
   "source": [
    "from pyteomics.parser import isoforms, parse\n",
    "\n",
    "variable_mods = {\"m\" : [\"M\"]}\n",
    "fixed_mods = {\"c\" : [\"C\"]}\n",
    "\n",
    "for i in isoforms(pept, variable_mods=variable_mods, fixed_mods=fixed_mods, max_mods=3):\n",
    "    print(i)\n",
    "\n",
    "\n"
   ]
  },
  {
   "cell_type": "code",
   "execution_count": null,
   "metadata": {},
   "outputs": [],
   "source": [
    "from pyteomics import mass\n",
    "\n",
    "variable_mods = {\"[oxid]\" : [\"M\"]}\n",
    "fixed_mods = {\"[carb]\" : [\"C\"]}\n",
    "\n",
    "mass.std_aa_comp['[oxid]'] = mass.Composition({'O': 1})\n",
    "mass.std_aa_comp['[carb]'] = mass.Composition({'H': 3, 'C' : 2, 'N' : 1, 'O' : 1})\n",
    "\n",
    "mass.std_aa_mass['[oxid]M'] = 15.994915\n",
    "mass.std_aa_mass['[carb]C'] = 57.021464\n",
    "\n",
    "pep1 = \"GLTEGLHGF[carb]CHVHEFGDNTAG\"\n",
    "\n",
    "\n",
    "print(mass.fast_mass2(pep1, charge=3))"
   ]
  },
  {
   "cell_type": "code",
   "execution_count": null,
   "metadata": {},
   "outputs": [],
   "source": [
    "import sys\n",
    "from pyteomics import mass\n",
    "sys.path.append(\"../\")\n",
    "from Search.utils import fragments\n",
    "\n",
    "variable_mods = {\"[oxid]\" : [\"M\"]}\n",
    "fixed_mods = {\"[carb]\" : [\"C\"]}\n",
    "\n",
    "mass.std_aa_comp['[oxid]'] = mass.Composition({'O': 1})\n",
    "mass.std_aa_comp['[carb]'] = mass.Composition({'H': 3, 'C' : 2, 'N' : 1, 'O' : 1})\n",
    "\n",
    "peptide = \"ALSDHHIYLEGTLLKPN[oxid]MVTPGHA[carb]CTQK\"\n",
    "\n",
    "print(list(fragments(peptide, maxcharge=3)))"
   ]
  },
  {
   "cell_type": "code",
   "execution_count": null,
   "metadata": {},
   "outputs": [],
   "source": [
    "from Search.predicted_spect import predict_spectrum\n",
    "\n",
    "\n",
    "\n",
    "pepppppp = \"ALSDHHIYLEGTLLKPN[oxid]MVTPGHA[carb]CTQK\"\n",
    "print(predict_spectrum(pepppppp, 4))\n",
    "\n"
   ]
  },
  {
   "cell_type": "code",
   "execution_count": null,
   "metadata": {},
   "outputs": [],
   "source": [
    "from pyteomics import mzml, auxiliary\n",
    "\n",
    "mzml_reader = mzml.read(\"../LFQ_Orbitrap_DDA_Human_01.mzML\")\n",
    "\n",
    "for i in mzml_reader:\n",
    "    if i[\"ms level\"] == 2:\n",
    "        auxiliary.print_tree(i)\n"
   ]
  },
  {
   "cell_type": "code",
   "execution_count": null,
   "metadata": {},
   "outputs": [],
   "source": [
    "import pandas as pd\n",
    "\n",
    "res_1 = pd.read_csv('/home/zusman/Documents/xcorr-reimplementation/Results/LFQ_Orbitrap_DDA_Human_01_ps=False_result_nofilter.tsv', sep='\\t', header=0)\n",
    "res_2 = pd.read_csv(\"/home/zusman/micha/bioinfo/Comet/LFQ_Orbitrap_DDA_Human_01.tsv\" , sep='\\t', header=0)\n",
    "\n",
    "res_1.sort_values(by=\"xcorr\", ascending=False, inplace=True)\n",
    "res_2.sort_values(by=\"xcorr\", ascending=False, inplace=True)\n",
    "\n",
    "res_1.drop_duplicates(subset=\"scan\", inplace=True)\n",
    "res_2.drop_duplicates(subset=\"scan\", inplace=True)\n",
    "\n",
    "join = res_1.join(res_2.set_index(\"scan\"), on=[\"scan\"], how=\"inner\", lsuffix=\"_python\")\n",
    "\n",
    "\n",
    "join[[\"xcorr_python\", \"xcorr\"]]\n",
    "\n",
    "#join.plot.scatter(\"xcorr_python\", \"xcorr\", xlabel=\"Python Xcorr\", ylabel=\"Comet Xcorr\", color=\"black\", s=1, figsize = (10, 10))\n",
    "\n"
   ]
  },
  {
   "cell_type": "code",
   "execution_count": null,
   "metadata": {},
   "outputs": [],
   "source": [
    "import pandas as pd\n",
    "\n",
    "res_1 = pd.read_csv('/home/ubuntu/micha/xcorr-reimplementation/Results/LFQ_Orbitrap_DDA_Human_01_ps=False_result.tsv', sep='\\t', header=0)\n",
    "res_2 = pd.read_csv('/home/ubuntu/micha/xcorr-reimplementation/Results/LFQ_Orbitrap_DDA_Human_01_ps=True_result.tsv', sep='\\t', header=0)\n",
    "\n",
    "res_1.sort_values(by=\"xcorr\", ascending=False, inplace=True)\n",
    "res_2.sort_values(by=\"xcorr\", ascending=False, inplace=True)\n",
    "\n",
    "res_1.drop_duplicates(subset=\"scan\", inplace=True)\n",
    "res_2.drop_duplicates(subset=\"scan\", inplace=True)\n",
    "\n",
    "join = res_1.join(res_2.set_index(\"scan\"), on=[\"scan\"], how=\"inner\", lsuffix=\"_predicted\")\n",
    "\n",
    "table = join[[\"scan\", \"xcorr_predicted\", \"xcorr\"]]\n",
    "table.to_csv('/home/ubuntu/micha/xcorr-reimplementation/Results/table_theo_pred.tsv',sep='\\t', index=False, header=[\"scan\", \"xcorr_theo\", \"xcorr_predicted\"])\n",
    "\n",
    "join[[\"xcorr_predicted\", \"xcorr\"]].plot.scatter(\"xcorr_predicted\", \"xcorr\", xlabel=\"Theoretical Xcorr\", ylabel=\"Predicted Xcorr\", color=\"black\", s=1, figsize = (10, 10))"
   ]
  },
  {
   "cell_type": "code",
   "execution_count": null,
   "metadata": {},
   "outputs": [],
   "source": [
    "import sys\n",
    "sys.path.append(\"../\")\n",
    "\n",
    "from pyteomics import parser\n",
    "from ms2pip.core import predict_single\n",
    "from ms2pip.core import Peptidoform\n",
    "import numpy as np\n",
    "\n",
    "from Search.predicted_spect import predict_spectrum\n",
    "\n",
    "\n",
    "peptide = parser.parse(\"LLKPN[oxid]GHA[carb]CTQK\")\n",
    "proforma_seq = parser.to_proforma(peptide) + \"/5\"\n",
    "peptidoform = Peptidoform(proforma_seq)\n",
    "result = predict_single(peptidoform)\n",
    "\n",
    "mz = result.theoretical_mz\n",
    "intensity = result.predicted_intensity\n",
    "\n",
    "mz = np.array([])\n"
   ]
  },
  {
   "cell_type": "code",
   "execution_count": null,
   "metadata": {},
   "outputs": [],
   "source": [
    "import sys\n",
    "import numpy as np\n",
    "sys.path.append(\"../\")\n",
    "from Search.utils import parallel_list_sort\n",
    "\n",
    "l1 = np.array([2, 5, 5.98, 2.343, 5.3333])\n",
    "l2 = np.array([4, 2, 9, 50, 34])\n",
    "\n",
    "l1, l2 = parallel_list_sort(l1, l2)\n",
    "print(l1)\n",
    "print(l2)\n",
    "\n",
    "\n"
   ]
  }
 ],
 "metadata": {
  "kernelspec": {
   "display_name": "xcorr-reimplementation",
   "language": "python",
   "name": "python3"
  },
  "language_info": {
   "codemirror_mode": {
    "name": "ipython",
    "version": 3
   },
   "file_extension": ".py",
   "mimetype": "text/x-python",
   "name": "python",
   "nbconvert_exporter": "python",
   "pygments_lexer": "ipython3",
   "version": "3.12.7"
  }
 },
 "nbformat": 4,
 "nbformat_minor": 2
}
