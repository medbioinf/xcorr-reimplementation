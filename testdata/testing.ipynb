{
 "cells": [
  {
   "cell_type": "code",
   "execution_count": 72,
   "metadata": {},
   "outputs": [],
   "source": [
    "import pickle\n",
    "import numpy as np\n",
    "import plotly.graph_objects as go\n",
    "import sys\n",
    "import math\n",
    "\n",
    "binned_fasta_spectrum = pickle.load(open(\"binned_fasta_spectrum.pkl\", \"rb\"))\n",
    "binned_mzml_spectrum = pickle.load(open(\"binned_mzmL_spectrum.pkl\", \"rb\"))\n"
   ]
  },
  {
   "cell_type": "code",
   "execution_count": 8,
   "metadata": {},
   "outputs": [],
   "source": [
    "# fig = go.Figure()\n",
    "# fig.add_trace(go.Bar(x=np.arange(0, len(binned_fasta_spectrum), 0.02), y=binned_fasta_spectrum, width=3, marker_color='blue'))\n",
    "# fig.add_trace(go.Bar(x=np.arange(0, len(binned_fasta_spectrum), 0.02), y=binned_mzml_spectrum  * -1, width=3, marker_color='crimson'))\n",
    "\n",
    "# fig.write_image(\"pfui.svg\")\n",
    "# fig.write_html(\"pfui.html\")"
   ]
  },
  {
   "cell_type": "code",
   "execution_count": null,
   "metadata": {},
   "outputs": [
    {
     "data": {
      "text/plain": [
       "np.float64(4.958503220525413)"
      ]
     },
     "execution_count": 78,
     "metadata": {},
     "output_type": "execute_result"
    }
   ],
   "source": [
    "SHIFT = 1.0\n",
    "\n",
    "binned_fasta_spectrum_cut = binned_fasta_spectrum[int(200/0.02):int(2000/0.02)]\n",
    "\n",
    "binned_mzml_spectrum_cut = binned_mzml_spectrum[int(200/0.02):int(2000/0.02)]\n",
    "\n",
    "top_100_values = np.argsort(binned_mzml_spectrum_cut)[-100:]\n",
    "binned_mzml_spectrum_100 = np.zeros_like(binned_mzml_spectrum_cut)\n",
    "binned_mzml_spectrum_100[top_100_values] = binned_mzml_spectrum_cut[top_100_values]\n",
    "\n",
    "binned_mzml_spectrum_shift = np.insert(binned_mzml_spectrum_100, 0, np.zeros(int(SHIFT / 0.02)))\n",
    "binned_mzml_spectrum_shift = np.append(binned_mzml_spectrum_shift, np.zeros(int(SHIFT / 0.02)))\n",
    "\n",
    "corr = np.correlate(binned_fasta_spectrum_cut, binned_mzml_spectrum_shift, mode=\"valid\")\n",
    "\n",
    "\n",
    "corr[len(corr) // 2] - np.mean(corr)\n"
   ]
  },
  {
   "cell_type": "code",
   "execution_count": 68,
   "metadata": {},
   "outputs": [
    {
     "name": "stdout",
     "output_type": "stream",
     "text": [
      "0 1.7377634793519974\n",
      "1 1.2343083024024963\n",
      "2 0.4106478877365589\n",
      "3 0.162760678678751\n",
      "4 0.15119602158665657\n",
      "5 0.15532253310084343\n",
      "6 0.05314968153834343\n",
      "7 0.0\n",
      "8 0.0\n",
      "9 0.0\n",
      "10 0.0\n",
      "11 0.0\n",
      "12 0.0\n",
      "13 0.0\n",
      "14 0.08618076890707016\n",
      "15 0.17236153781414032\n",
      "16 0.08618076890707016\n",
      "17 0.0\n",
      "18 0.0\n",
      "19 0.0\n",
      "20 0.0\n",
      "21 0.0\n",
      "22 0.0\n",
      "23 0.0\n",
      "24 1.2656773664057255\n",
      "25 2.573997735977173\n",
      "26 1.3509633727371693\n",
      "27 0.04264300316572189\n",
      "28 0.08750216662883759\n",
      "29 0.17500433325767517\n",
      "30 0.08750216662883759\n",
      "31 0.0\n",
      "32 0.0\n",
      "33 0.0\n",
      "34 0.0\n",
      "35 0.0\n",
      "36 0.0\n",
      "37 0.0\n",
      "38 0.0\n",
      "39 0.05043966695666313\n",
      "40 0.14457030594348907\n",
      "41 0.13782161101698875\n",
      "42 0.04369097203016281\n",
      "43 0.0\n",
      "44 0.0\n",
      "45 0.0\n",
      "46 0.0\n",
      "47 0.0\n",
      "48 0.17780639231204987\n",
      "49 2.8161248713731766\n",
      "50 5.179034598171711\n",
      "51 2.6209201514720917\n",
      "52 0.08020403236150742\n",
      "53 0.0\n",
      "54 0.13636811077594757\n",
      "55 0.27273622155189514\n",
      "56 0.13636811077594757\n",
      "57 0.0\n",
      "58 0.0\n",
      "59 0.0\n",
      "60 0.0\n",
      "61 0.0\n",
      "62 0.03263312950730324\n",
      "63 0.06526625901460648\n",
      "64 0.03263312950730324\n",
      "65 0.0\n",
      "66 0.0\n",
      "67 0.0\n",
      "68 0.0\n",
      "69 0.0\n",
      "70 0.0\n",
      "71 0.0\n",
      "72 0.0\n",
      "73 0.0\n",
      "74 0.0\n",
      "75 0.0\n",
      "76 0.04251212254166603\n",
      "77 0.08502424508333206\n",
      "78 0.04251212254166603\n",
      "79 0.0\n",
      "80 0.0\n",
      "81 0.0\n",
      "82 0.0\n",
      "83 0.0\n",
      "84 0.0\n",
      "85 0.0\n",
      "86 0.0\n",
      "87 0.0\n",
      "88 0.0\n",
      "89 0.0\n",
      "90 0.08596032112836838\n",
      "91 0.17192064225673676\n",
      "92 0.08596032112836838\n",
      "93 0.0\n",
      "94 0.0\n",
      "95 0.0\n",
      "96 0.0\n",
      "97 0.0\n",
      "98 0.0\n",
      "99 0.0\n",
      "100 0.0\n"
     ]
    }
   ],
   "source": [
    "np.printoptions(threshold=sys.maxsize)\n",
    "for idx, i in enumerate(corr):\n",
    "    print(idx, i)"
   ]
  },
  {
   "cell_type": "code",
   "execution_count": 64,
   "metadata": {},
   "outputs": [
    {
     "data": {
      "text/plain": [
       "array([  31.06,   45.06,   56.16,   58.1 ,  116.1 ,  143.22,  144.22,\n",
       "        146.08,  160.1 ,  171.18,  187.14,  214.26,  215.26,  229.18,\n",
       "        231.12,  257.1 ,  261.1 ,  275.12,  300.22,  342.36,  365.28,\n",
       "        372.14,  376.12,  390.14,  415.26,  422.8 ,  423.3 ,  471.4 ,\n",
       "        480.3 ,  480.8 ,  505.18,  530.28,  553.84,  554.34,  600.44,\n",
       "        601.44,  602.2 ,  611.36,  611.86,  620.2 ,  668.86,  669.36,\n",
       "        671.48,  672.48,  726.38,  726.88,  749.24,  783.9 ,  784.4 ,\n",
       "        800.52,  801.52,  841.42,  841.9 ,  898.92,  899.42,  899.92,\n",
       "        929.56,  930.56,  954.94,  963.46,  963.94,  964.44, 1020.96,\n",
       "       1021.46, 1021.94, 1044.58, 1045.6 , 1078.48, 1078.98, 1079.48,\n",
       "       1135.98, 1136.48, 1136.98, 1159.62, 1160.62, 1192.  , 1200.5 ,\n",
       "       1201.  , 1201.48, 1256.52, 1265.02, 1265.52, 1266.02, 1306.7 ,\n",
       "       1307.68, 1322.54, 1323.04, 1323.54, 1380.56, 1381.04, 1421.72,\n",
       "       1437.56, 1438.06, 1438.56, 1495.58, 1496.08, 1553.08, 1553.6 ,\n",
       "       1610.6 , 1611.12])"
      ]
     },
     "execution_count": 64,
     "metadata": {},
     "output_type": "execute_result"
    }
   ],
   "source": [
    "binned_mzml_spectrum_cut = binned_mzml_spectrum[int(200/0.02):int(2000/0.02)]\n",
    "\n",
    "top_100_values = np.argsort(binned_mzml_spectrum_cut)[-100:]\n",
    "binned_mzml_spectrum_100 = np.zeros_like(binned_mzml_spectrum_cut)\n",
    "binned_mzml_spectrum_100[top_100_values] = binned_mzml_spectrum_cut[top_100_values]\n",
    "\n",
    "np.sort(np.argsort(binned_mzml_spectrum_100)[-100:] / 50)\n",
    "\n"
   ]
  }
 ],
 "metadata": {
  "kernelspec": {
   "display_name": "Python 3",
   "language": "python",
   "name": "python3"
  },
  "language_info": {
   "codemirror_mode": {
    "name": "ipython",
    "version": 3
   },
   "file_extension": ".py",
   "mimetype": "text/x-python",
   "name": "python",
   "nbconvert_exporter": "python",
   "pygments_lexer": "ipython3",
   "version": "3.13.0"
  }
 },
 "nbformat": 4,
 "nbformat_minor": 2
}
